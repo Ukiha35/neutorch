{
 "metadata": {
  "language_info": {
   "codemirror_mode": {
    "name": "ipython",
    "version": 3
   },
   "file_extension": ".py",
   "mimetype": "text/x-python",
   "name": "python",
   "nbconvert_exporter": "python",
   "pygments_lexer": "ipython3",
   "version": "3.9.5"
  },
  "orig_nbformat": 2,
  "kernelspec": {
   "name": "python395jvsc74a57bd0ac2eaa0ea0ebeafcc7822e65e46aa9d4f966f30b695406963e145ea4a91cd4fc",
   "display_name": "Python 3.9.5 64-bit"
  },
  "metadata": {
   "interpreter": {
    "hash": "ac2eaa0ea0ebeafcc7822e65e46aa9d4f966f30b695406963e145ea4a91cd4fc"
   }
  }
 },
 "nbformat": 4,
 "nbformat_minor": 2,
 "cells": [
  {
   "cell_type": "code",
   "execution_count": 8,
   "metadata": {},
   "outputs": [],
   "source": [
    "import h5py\n",
    "import numpy as np\n",
    "from chunkflow.chunk import Chunk\n",
    "\n",
    "%load_ext autoreload\n",
    "%autoreload 2"
   ]
  },
  {
   "cell_type": "code",
   "execution_count": 36,
   "metadata": {},
   "outputs": [],
   "source": [
    "from skimage.transform import resize\n",
    "from skimage import color\n",
    "from skimage import segmentation\n",
    "\n",
    "\n",
    "def scale_data(vol, seg, size=180):\n",
    "    length = vol.shape[0]\n",
    "    vol = resize(vol, (length, size, size))\n",
    "    seg = resize(seg, (length, size, size), order=0, preserve_range=True, anti_aliasing=False)\n",
    "\n",
    "    return (vol, seg)\n",
    "    \n",
    "def label_data(vol, seg):\n",
    "    length = vol.shape[0]\n",
    "    size = vol.shape[1]\n",
    "    # reshape for labeling\n",
    "    seg = np.reshape(seg, (size, length*size) )\n",
    "    vol = np.reshape(vol, (size, length*size) )\n",
    "    # label\n",
    "    labeled = color.label2rgb(seg, vol, alpha=0.2, bg_label=-1)\n",
    "    # shape back\n",
    "    labeled = np.reshape(labeled, (length, size, size, 3) )\n",
    "\n",
    "    return labeled\n"
   ]
  },
  {
   "cell_type": "code",
   "execution_count": 37,
   "metadata": {},
   "outputs": [],
   "source": [
    "import matplotlib.pyplot as plt\n",
    "import time\n",
    "\n",
    "import IPython\n",
    "%matplotlib inline\n",
    "\n",
    "def vis_volume(volume):\n",
    "    length = volume.shape[0]\n",
    "    \n",
    "    # set up\n",
    "    fig = plt.figure()\n",
    "    axes = fig.add_subplot()\n",
    "    hfig = display(fig, display_id=True)\n",
    "\n",
    "    # display\n",
    "    for i in range(length):\n",
    "        axes.imshow(volume[i], interpolation='none', filternorm=False, resample=False)\n",
    "        fig.canvas.draw()\n",
    "        hfig.update(fig)\n",
    "        if i != length-1:\n",
    "            plt.cla()\n",
    "    # clean up\n",
    "    IPython.display.clear_output()"
   ]
  },
  {
   "cell_type": "code",
   "execution_count": 38,
   "metadata": {},
   "outputs": [
    {
     "output_type": "stream",
     "name": "stdout",
     "text": [
      "read from HDF5 file: ./data/cremi/sample_A.hdf\n",
      "global offset: None\n",
      "read from HDF5 file: ./data/cremi/sample_B.hdf\n",
      "global offset: None\n"
     ]
    }
   ],
   "source": [
    "# load datasets\n",
    "fileA = './data/cremi/sample_A.hdf'\n",
    "\n",
    "volA = Chunk.from_h5(fileA, dataset_path='volumes/raw')\n",
    "segA = Chunk.from_h5(fileB, dataset_path='volumes/labels/neuron_ids')"
   ]
  },
  {
   "cell_type": "code",
   "execution_count": 43,
   "metadata": {},
   "outputs": [],
   "source": [
    "scaledVolA, scaledSegA = scale_data(volA, segA)\n",
    "labeledVolA = label_data(scaledVolA, scaledSegA)"
   ]
  },
  {
   "cell_type": "code",
   "execution_count": null,
   "metadata": {},
   "outputs": [],
   "source": [
    "vis_volume(scaledVolA)\n",
    "vis_volume(labeledVolA)"
   ]
  },
  {
   "cell_type": "code",
   "execution_count": 28,
   "metadata": {},
   "outputs": [
    {
     "output_type": "stream",
     "name": "stdout",
     "text": [
      "read from HDF5 file: ./data/cremi/sample_A.hdf\n",
      "global offset: None\n",
      "read from HDF5 file: ./data/cremi/sample_A.hdf\n",
      "global offset: None\n",
      "read from HDF5 file: ./data/cremi/sample_B.hdf\n",
      "global offset: None\n",
      "read from HDF5 file: ./data/cremi/sample_B.hdf\n",
      "global offset: None\n",
      "read from HDF5 file: ./data/cremi/sample_C.hdf\n",
      "global offset: None\n",
      "read from HDF5 file: ./data/cremi/sample_C.hdf\n",
      "global offset: None\n"
     ]
    }
   ],
   "source": [
    "from dataset.segmentation import CremiDataset\n",
    "\n",
    "patch_size = 64\n",
    "dataset = CremiDataset(patch_size=patch_size)"
   ]
  },
  {
   "cell_type": "code",
   "execution_count": 50,
   "metadata": {},
   "outputs": [
    {
     "output_type": "display_data",
     "data": {
      "text/plain": "<Figure size 432x288 with 1 Axes>",
      "image/svg+xml": "<?xml version=\"1.0\" encoding=\"utf-8\" standalone=\"no\"?>\n<!DOCTYPE svg PUBLIC \"-//W3C//DTD SVG 1.1//EN\"\n  \"http://www.w3.org/Graphics/SVG/1.1/DTD/svg11.dtd\">\n<svg height=\"252.018125pt\" version=\"1.1\" viewBox=\"0 0 255.065 252.018125\" width=\"255.065pt\" xmlns=\"http://www.w3.org/2000/svg\" xmlns:xlink=\"http://www.w3.org/1999/xlink\">\n <metadata>\n  <rdf:RDF xmlns:cc=\"http://creativecommons.org/ns#\" xmlns:dc=\"http://purl.org/dc/elements/1.1/\" xmlns:rdf=\"http://www.w3.org/1999/02/22-rdf-syntax-ns#\">\n   <cc:Work>\n    <dc:type rdf:resource=\"http://purl.org/dc/dcmitype/StillImage\"/>\n    <dc:date>2021-06-05T16:04:13.026472</dc:date>\n    <dc:format>image/svg+xml</dc:format>\n    <dc:creator>\n     <cc:Agent>\n      <dc:title>Matplotlib v3.4.2, https://matplotlib.org/</dc:title>\n     </cc:Agent>\n    </dc:creator>\n   </cc:Work>\n  </rdf:RDF>\n </metadata>\n <defs>\n  <style type=\"text/css\">*{stroke-linecap:butt;stroke-linejoin:round;}</style>\n </defs>\n <g id=\"figure_1\">\n  <g id=\"patch_1\">\n   <path d=\"M 0 252.018125 \nL 255.065 252.018125 \nL 255.065 0 \nL 0 0 \nz\n\" style=\"fill:none;\"/>\n  </g>\n  <g id=\"axes_1\">\n   <g id=\"patch_2\">\n    <path d=\"M 26.925 228.14 \nL 244.365 228.14 \nL 244.365 10.7 \nL 26.925 10.7 \nz\n\" style=\"fill:#ffffff;\"/>\n   </g>\n   <g clip-path=\"url(#p758d1e76b0)\">\n    <image height=\"64\" id=\"imageb94d2bad19\" style=\"image-rendering:crisp-edges;image-rendering:pixelated\" transform=\"matrix(3.40625 0 0 3.40625 26.925 10.14)\" width=\"64\" xlink:href=\"data:image/png;base64,\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\"/>\n   </g>\n   <g id=\"matplotlib.axis_1\">\n    <g id=\"xtick_1\">\n     <g id=\"line2d_1\">\n      <defs>\n       <path d=\"M 0 0 \nL 0 3.5 \n\" id=\"mf1c8d19fb0\" style=\"stroke:#000000;stroke-width:0.8;\"/>\n      </defs>\n      <g>\n       <use style=\"stroke:#000000;stroke-width:0.8;\" x=\"28.62375\" xlink:href=\"#mf1c8d19fb0\" y=\"228.14\"/>\n      </g>\n     </g>\n     <g id=\"line2d_2\">\n      <defs>\n       <path d=\"M 0 0 \nL 0 -3.5 \n\" id=\"m11fe3954b3\" style=\"stroke:#000000;stroke-width:0.8;\"/>\n      </defs>\n      <g>\n       <use style=\"stroke:#000000;stroke-width:0.8;\" x=\"28.62375\" xlink:href=\"#m11fe3954b3\" y=\"10.7\"/>\n      </g>\n     </g>\n     <g id=\"text_1\">\n      <!-- 0 -->\n      <g transform=\"translate(25.4425 242.738437)scale(0.1 -0.1)\">\n       <defs>\n        <path d=\"M 2034 4250 \nQ 1547 4250 1301 3770 \nQ 1056 3291 1056 2328 \nQ 1056 1369 1301 889 \nQ 1547 409 2034 409 \nQ 2525 409 2770 889 \nQ 3016 1369 3016 2328 \nQ 3016 3291 2770 3770 \nQ 2525 4250 2034 4250 \nz\nM 2034 4750 \nQ 2819 4750 3233 4129 \nQ 3647 3509 3647 2328 \nQ 3647 1150 3233 529 \nQ 2819 -91 2034 -91 \nQ 1250 -91 836 529 \nQ 422 1150 422 2328 \nQ 422 3509 836 4129 \nQ 1250 4750 2034 4750 \nz\n\" id=\"DejaVuSans-30\" transform=\"scale(0.015625)\"/>\n       </defs>\n       <use xlink:href=\"#DejaVuSans-30\"/>\n      </g>\n     </g>\n    </g>\n    <g id=\"xtick_2\">\n     <g id=\"line2d_3\">\n      <g>\n       <use style=\"stroke:#000000;stroke-width:0.8;\" x=\"62.59875\" xlink:href=\"#mf1c8d19fb0\" y=\"228.14\"/>\n      </g>\n     </g>\n     <g id=\"line2d_4\">\n      <g>\n       <use style=\"stroke:#000000;stroke-width:0.8;\" x=\"62.59875\" xlink:href=\"#m11fe3954b3\" y=\"10.7\"/>\n      </g>\n     </g>\n     <g id=\"text_2\">\n      <!-- 10 -->\n      <g transform=\"translate(56.23625 242.738437)scale(0.1 -0.1)\">\n       <defs>\n        <path d=\"M 794 531 \nL 1825 531 \nL 1825 4091 \nL 703 3866 \nL 703 4441 \nL 1819 4666 \nL 2450 4666 \nL 2450 531 \nL 3481 531 \nL 3481 0 \nL 794 0 \nL 794 531 \nz\n\" id=\"DejaVuSans-31\" transform=\"scale(0.015625)\"/>\n       </defs>\n       <use xlink:href=\"#DejaVuSans-31\"/>\n       <use x=\"63.623047\" xlink:href=\"#DejaVuSans-30\"/>\n      </g>\n     </g>\n    </g>\n    <g id=\"xtick_3\">\n     <g id=\"line2d_5\">\n      <g>\n       <use style=\"stroke:#000000;stroke-width:0.8;\" x=\"96.57375\" xlink:href=\"#mf1c8d19fb0\" y=\"228.14\"/>\n      </g>\n     </g>\n     <g id=\"line2d_6\">\n      <g>\n       <use style=\"stroke:#000000;stroke-width:0.8;\" x=\"96.57375\" xlink:href=\"#m11fe3954b3\" y=\"10.7\"/>\n      </g>\n     </g>\n     <g id=\"text_3\">\n      <!-- 20 -->\n      <g transform=\"translate(90.21125 242.738437)scale(0.1 -0.1)\">\n       <defs>\n        <path d=\"M 1228 531 \nL 3431 531 \nL 3431 0 \nL 469 0 \nL 469 531 \nQ 828 903 1448 1529 \nQ 2069 2156 2228 2338 \nQ 2531 2678 2651 2914 \nQ 2772 3150 2772 3378 \nQ 2772 3750 2511 3984 \nQ 2250 4219 1831 4219 \nQ 1534 4219 1204 4116 \nQ 875 4013 500 3803 \nL 500 4441 \nQ 881 4594 1212 4672 \nQ 1544 4750 1819 4750 \nQ 2544 4750 2975 4387 \nQ 3406 4025 3406 3419 \nQ 3406 3131 3298 2873 \nQ 3191 2616 2906 2266 \nQ 2828 2175 2409 1742 \nQ 1991 1309 1228 531 \nz\n\" id=\"DejaVuSans-32\" transform=\"scale(0.015625)\"/>\n       </defs>\n       <use xlink:href=\"#DejaVuSans-32\"/>\n       <use x=\"63.623047\" xlink:href=\"#DejaVuSans-30\"/>\n      </g>\n     </g>\n    </g>\n    <g id=\"xtick_4\">\n     <g id=\"line2d_7\">\n      <g>\n       <use style=\"stroke:#000000;stroke-width:0.8;\" x=\"130.54875\" xlink:href=\"#mf1c8d19fb0\" y=\"228.14\"/>\n      </g>\n     </g>\n     <g id=\"line2d_8\">\n      <g>\n       <use style=\"stroke:#000000;stroke-width:0.8;\" x=\"130.54875\" xlink:href=\"#m11fe3954b3\" y=\"10.7\"/>\n      </g>\n     </g>\n     <g id=\"text_4\">\n      <!-- 30 -->\n      <g transform=\"translate(124.18625 242.738437)scale(0.1 -0.1)\">\n       <defs>\n        <path d=\"M 2597 2516 \nQ 3050 2419 3304 2112 \nQ 3559 1806 3559 1356 \nQ 3559 666 3084 287 \nQ 2609 -91 1734 -91 \nQ 1441 -91 1130 -33 \nQ 819 25 488 141 \nL 488 750 \nQ 750 597 1062 519 \nQ 1375 441 1716 441 \nQ 2309 441 2620 675 \nQ 2931 909 2931 1356 \nQ 2931 1769 2642 2001 \nQ 2353 2234 1838 2234 \nL 1294 2234 \nL 1294 2753 \nL 1863 2753 \nQ 2328 2753 2575 2939 \nQ 2822 3125 2822 3475 \nQ 2822 3834 2567 4026 \nQ 2313 4219 1838 4219 \nQ 1578 4219 1281 4162 \nQ 984 4106 628 3988 \nL 628 4550 \nQ 988 4650 1302 4700 \nQ 1616 4750 1894 4750 \nQ 2613 4750 3031 4423 \nQ 3450 4097 3450 3541 \nQ 3450 3153 3228 2886 \nQ 3006 2619 2597 2516 \nz\n\" id=\"DejaVuSans-33\" transform=\"scale(0.015625)\"/>\n       </defs>\n       <use xlink:href=\"#DejaVuSans-33\"/>\n       <use x=\"63.623047\" xlink:href=\"#DejaVuSans-30\"/>\n      </g>\n     </g>\n    </g>\n    <g id=\"xtick_5\">\n     <g id=\"line2d_9\">\n      <g>\n       <use style=\"stroke:#000000;stroke-width:0.8;\" x=\"164.52375\" xlink:href=\"#mf1c8d19fb0\" y=\"228.14\"/>\n      </g>\n     </g>\n     <g id=\"line2d_10\">\n      <g>\n       <use style=\"stroke:#000000;stroke-width:0.8;\" x=\"164.52375\" xlink:href=\"#m11fe3954b3\" y=\"10.7\"/>\n      </g>\n     </g>\n     <g id=\"text_5\">\n      <!-- 40 -->\n      <g transform=\"translate(158.16125 242.738437)scale(0.1 -0.1)\">\n       <defs>\n        <path d=\"M 2419 4116 \nL 825 1625 \nL 2419 1625 \nL 2419 4116 \nz\nM 2253 4666 \nL 3047 4666 \nL 3047 1625 \nL 3713 1625 \nL 3713 1100 \nL 3047 1100 \nL 3047 0 \nL 2419 0 \nL 2419 1100 \nL 313 1100 \nL 313 1709 \nL 2253 4666 \nz\n\" id=\"DejaVuSans-34\" transform=\"scale(0.015625)\"/>\n       </defs>\n       <use xlink:href=\"#DejaVuSans-34\"/>\n       <use x=\"63.623047\" xlink:href=\"#DejaVuSans-30\"/>\n      </g>\n     </g>\n    </g>\n    <g id=\"xtick_6\">\n     <g id=\"line2d_11\">\n      <g>\n       <use style=\"stroke:#000000;stroke-width:0.8;\" x=\"198.49875\" xlink:href=\"#mf1c8d19fb0\" y=\"228.14\"/>\n      </g>\n     </g>\n     <g id=\"line2d_12\">\n      <g>\n       <use style=\"stroke:#000000;stroke-width:0.8;\" x=\"198.49875\" xlink:href=\"#m11fe3954b3\" y=\"10.7\"/>\n      </g>\n     </g>\n     <g id=\"text_6\">\n      <!-- 50 -->\n      <g transform=\"translate(192.13625 242.738437)scale(0.1 -0.1)\">\n       <defs>\n        <path d=\"M 691 4666 \nL 3169 4666 \nL 3169 4134 \nL 1269 4134 \nL 1269 2991 \nQ 1406 3038 1543 3061 \nQ 1681 3084 1819 3084 \nQ 2600 3084 3056 2656 \nQ 3513 2228 3513 1497 \nQ 3513 744 3044 326 \nQ 2575 -91 1722 -91 \nQ 1428 -91 1123 -41 \nQ 819 9 494 109 \nL 494 744 \nQ 775 591 1075 516 \nQ 1375 441 1709 441 \nQ 2250 441 2565 725 \nQ 2881 1009 2881 1497 \nQ 2881 1984 2565 2268 \nQ 2250 2553 1709 2553 \nQ 1456 2553 1204 2497 \nQ 953 2441 691 2322 \nL 691 4666 \nz\n\" id=\"DejaVuSans-35\" transform=\"scale(0.015625)\"/>\n       </defs>\n       <use xlink:href=\"#DejaVuSans-35\"/>\n       <use x=\"63.623047\" xlink:href=\"#DejaVuSans-30\"/>\n      </g>\n     </g>\n    </g>\n    <g id=\"xtick_7\">\n     <g id=\"line2d_13\">\n      <g>\n       <use style=\"stroke:#000000;stroke-width:0.8;\" x=\"232.47375\" xlink:href=\"#mf1c8d19fb0\" y=\"228.14\"/>\n      </g>\n     </g>\n     <g id=\"line2d_14\">\n      <g>\n       <use style=\"stroke:#000000;stroke-width:0.8;\" x=\"232.47375\" xlink:href=\"#m11fe3954b3\" y=\"10.7\"/>\n      </g>\n     </g>\n     <g id=\"text_7\">\n      <!-- 60 -->\n      <g transform=\"translate(226.11125 242.738437)scale(0.1 -0.1)\">\n       <defs>\n        <path d=\"M 2113 2584 \nQ 1688 2584 1439 2293 \nQ 1191 2003 1191 1497 \nQ 1191 994 1439 701 \nQ 1688 409 2113 409 \nQ 2538 409 2786 701 \nQ 3034 994 3034 1497 \nQ 3034 2003 2786 2293 \nQ 2538 2584 2113 2584 \nz\nM 3366 4563 \nL 3366 3988 \nQ 3128 4100 2886 4159 \nQ 2644 4219 2406 4219 \nQ 1781 4219 1451 3797 \nQ 1122 3375 1075 2522 \nQ 1259 2794 1537 2939 \nQ 1816 3084 2150 3084 \nQ 2853 3084 3261 2657 \nQ 3669 2231 3669 1497 \nQ 3669 778 3244 343 \nQ 2819 -91 2113 -91 \nQ 1303 -91 875 529 \nQ 447 1150 447 2328 \nQ 447 3434 972 4092 \nQ 1497 4750 2381 4750 \nQ 2619 4750 2861 4703 \nQ 3103 4656 3366 4563 \nz\n\" id=\"DejaVuSans-36\" transform=\"scale(0.015625)\"/>\n       </defs>\n       <use xlink:href=\"#DejaVuSans-36\"/>\n       <use x=\"63.623047\" xlink:href=\"#DejaVuSans-30\"/>\n      </g>\n     </g>\n    </g>\n   </g>\n   <g id=\"matplotlib.axis_2\">\n    <g id=\"ytick_1\">\n     <g id=\"line2d_15\">\n      <defs>\n       <path d=\"M 0 0 \nL -3.5 0 \n\" id=\"m87a31ac0f6\" style=\"stroke:#000000;stroke-width:0.8;\"/>\n      </defs>\n      <g>\n       <use style=\"stroke:#000000;stroke-width:0.8;\" x=\"26.925\" xlink:href=\"#m87a31ac0f6\" y=\"12.39875\"/>\n      </g>\n     </g>\n     <g id=\"line2d_16\">\n      <defs>\n       <path d=\"M 0 0 \nL 3.5 0 \n\" id=\"m555af6936b\" style=\"stroke:#000000;stroke-width:0.8;\"/>\n      </defs>\n      <g>\n       <use style=\"stroke:#000000;stroke-width:0.8;\" x=\"244.365\" xlink:href=\"#m555af6936b\" y=\"12.39875\"/>\n      </g>\n     </g>\n     <g id=\"text_8\">\n      <!-- 0 -->\n      <g transform=\"translate(13.5625 16.197969)scale(0.1 -0.1)\">\n       <use xlink:href=\"#DejaVuSans-30\"/>\n      </g>\n     </g>\n    </g>\n    <g id=\"ytick_2\">\n     <g id=\"line2d_17\">\n      <g>\n       <use style=\"stroke:#000000;stroke-width:0.8;\" x=\"26.925\" xlink:href=\"#m87a31ac0f6\" y=\"46.37375\"/>\n      </g>\n     </g>\n     <g id=\"line2d_18\">\n      <g>\n       <use style=\"stroke:#000000;stroke-width:0.8;\" x=\"244.365\" xlink:href=\"#m555af6936b\" y=\"46.37375\"/>\n      </g>\n     </g>\n     <g id=\"text_9\">\n      <!-- 10 -->\n      <g transform=\"translate(7.2 50.172969)scale(0.1 -0.1)\">\n       <use xlink:href=\"#DejaVuSans-31\"/>\n       <use x=\"63.623047\" xlink:href=\"#DejaVuSans-30\"/>\n      </g>\n     </g>\n    </g>\n    <g id=\"ytick_3\">\n     <g id=\"line2d_19\">\n      <g>\n       <use style=\"stroke:#000000;stroke-width:0.8;\" x=\"26.925\" xlink:href=\"#m87a31ac0f6\" y=\"80.34875\"/>\n      </g>\n     </g>\n     <g id=\"line2d_20\">\n      <g>\n       <use style=\"stroke:#000000;stroke-width:0.8;\" x=\"244.365\" xlink:href=\"#m555af6936b\" y=\"80.34875\"/>\n      </g>\n     </g>\n     <g id=\"text_10\">\n      <!-- 20 -->\n      <g transform=\"translate(7.2 84.147969)scale(0.1 -0.1)\">\n       <use xlink:href=\"#DejaVuSans-32\"/>\n       <use x=\"63.623047\" xlink:href=\"#DejaVuSans-30\"/>\n      </g>\n     </g>\n    </g>\n    <g id=\"ytick_4\">\n     <g id=\"line2d_21\">\n      <g>\n       <use style=\"stroke:#000000;stroke-width:0.8;\" x=\"26.925\" xlink:href=\"#m87a31ac0f6\" y=\"114.32375\"/>\n      </g>\n     </g>\n     <g id=\"line2d_22\">\n      <g>\n       <use style=\"stroke:#000000;stroke-width:0.8;\" x=\"244.365\" xlink:href=\"#m555af6936b\" y=\"114.32375\"/>\n      </g>\n     </g>\n     <g id=\"text_11\">\n      <!-- 30 -->\n      <g transform=\"translate(7.2 118.122969)scale(0.1 -0.1)\">\n       <use xlink:href=\"#DejaVuSans-33\"/>\n       <use x=\"63.623047\" xlink:href=\"#DejaVuSans-30\"/>\n      </g>\n     </g>\n    </g>\n    <g id=\"ytick_5\">\n     <g id=\"line2d_23\">\n      <g>\n       <use style=\"stroke:#000000;stroke-width:0.8;\" x=\"26.925\" xlink:href=\"#m87a31ac0f6\" y=\"148.29875\"/>\n      </g>\n     </g>\n     <g id=\"line2d_24\">\n      <g>\n       <use style=\"stroke:#000000;stroke-width:0.8;\" x=\"244.365\" xlink:href=\"#m555af6936b\" y=\"148.29875\"/>\n      </g>\n     </g>\n     <g id=\"text_12\">\n      <!-- 40 -->\n      <g transform=\"translate(7.2 152.097969)scale(0.1 -0.1)\">\n       <use xlink:href=\"#DejaVuSans-34\"/>\n       <use x=\"63.623047\" xlink:href=\"#DejaVuSans-30\"/>\n      </g>\n     </g>\n    </g>\n    <g id=\"ytick_6\">\n     <g id=\"line2d_25\">\n      <g>\n       <use style=\"stroke:#000000;stroke-width:0.8;\" x=\"26.925\" xlink:href=\"#m87a31ac0f6\" y=\"182.27375\"/>\n      </g>\n     </g>\n     <g id=\"line2d_26\">\n      <g>\n       <use style=\"stroke:#000000;stroke-width:0.8;\" x=\"244.365\" xlink:href=\"#m555af6936b\" y=\"182.27375\"/>\n      </g>\n     </g>\n     <g id=\"text_13\">\n      <!-- 50 -->\n      <g transform=\"translate(7.2 186.072969)scale(0.1 -0.1)\">\n       <use xlink:href=\"#DejaVuSans-35\"/>\n       <use x=\"63.623047\" xlink:href=\"#DejaVuSans-30\"/>\n      </g>\n     </g>\n    </g>\n    <g id=\"ytick_7\">\n     <g id=\"line2d_27\">\n      <g>\n       <use style=\"stroke:#000000;stroke-width:0.8;\" x=\"26.925\" xlink:href=\"#m87a31ac0f6\" y=\"216.24875\"/>\n      </g>\n     </g>\n     <g id=\"line2d_28\">\n      <g>\n       <use style=\"stroke:#000000;stroke-width:0.8;\" x=\"244.365\" xlink:href=\"#m555af6936b\" y=\"216.24875\"/>\n      </g>\n     </g>\n     <g id=\"text_14\">\n      <!-- 60 -->\n      <g transform=\"translate(7.2 220.047969)scale(0.1 -0.1)\">\n       <use xlink:href=\"#DejaVuSans-36\"/>\n       <use x=\"63.623047\" xlink:href=\"#DejaVuSans-30\"/>\n      </g>\n     </g>\n    </g>\n   </g>\n   <g id=\"patch_3\">\n    <path d=\"M 26.925 228.14 \nL 26.925 10.7 \n\" style=\"fill:none;stroke:#000000;stroke-linecap:square;stroke-linejoin:miter;stroke-width:0.8;\"/>\n   </g>\n   <g id=\"patch_4\">\n    <path d=\"M 244.365 228.14 \nL 244.365 10.7 \n\" style=\"fill:none;stroke:#000000;stroke-linecap:square;stroke-linejoin:miter;stroke-width:0.8;\"/>\n   </g>\n   <g id=\"patch_5\">\n    <path d=\"M 26.925 228.14 \nL 244.365 228.14 \n\" style=\"fill:none;stroke:#000000;stroke-linecap:square;stroke-linejoin:miter;stroke-width:0.8;\"/>\n   </g>\n   <g id=\"patch_6\">\n    <path d=\"M 26.925 10.7 \nL 244.365 10.7 \n\" style=\"fill:none;stroke:#000000;stroke-linecap:square;stroke-linejoin:miter;stroke-width:0.8;\"/>\n   </g>\n  </g>\n </g>\n <defs>\n  <clipPath id=\"p758d1e76b0\">\n   <rect height=\"217.44\" width=\"217.44\" x=\"26.925\" y=\"10.7\"/>\n  </clipPath>\n </defs>\n</svg>\n",
      "image/png": "[encoded data removed]"
     },
     "metadata": {
      "needs_background": "light"
     }
    }
   ],
   "source": [
    "patch = dataset.random_training_patch\n",
    "image = np.squeeze(patch.image)\n",
    "label = np.squeeze(patch.label)\n",
    "labeledPatch = label_data(image, label)\n",
    "vis_volume(labeledPatch)"
   ]
  },
  {
   "cell_type": "code",
   "execution_count": 33,
   "metadata": {},
   "outputs": [
    {
     "output_type": "execute_result",
     "data": {
      "text/plain": [
       "(34, 34, 34)"
      ]
     },
     "metadata": {},
     "execution_count": 33
    }
   ],
   "source": []
  },
  {
   "cell_type": "code",
   "execution_count": null,
   "metadata": {},
   "outputs": [],
   "source": []
  }
 ]
}