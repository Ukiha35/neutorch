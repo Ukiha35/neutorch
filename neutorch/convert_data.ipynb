{
 "metadata": {
  "language_info": {
   "codemirror_mode": {
    "name": "ipython",
    "version": 3
   },
   "file_extension": ".py",
   "mimetype": "text/x-python",
   "name": "python",
   "nbconvert_exporter": "python",
   "pygments_lexer": "ipython3",
   "version": "3.9.5"
  },
  "orig_nbformat": 2,
  "kernelspec": {
   "name": "python395jvsc74a57bd0ac2eaa0ea0ebeafcc7822e65e46aa9d4f966f30b695406963e145ea4a91cd4fc",
   "display_name": "Python 3.9.5 64-bit ('python@3.9')"
  },
  "metadata": {
   "interpreter": {
    "hash": "ac2eaa0ea0ebeafcc7822e65e46aa9d4f966f30b695406963e145ea4a91cd4fc"
   }
  }
 },
 "nbformat": 4,
 "nbformat_minor": 2,
 "cells": [
  {
   "cell_type": "code",
   "execution_count": 7,
   "metadata": {},
   "outputs": [
    {
     "output_type": "stream",
     "name": "stdout",
     "text": [
      "read from HDF5 file: ./data/cremi/sample_A.hdf\n",
      "global offset: None\n",
      "label:  (125, 1250, 1250)\n",
      "lsd:  (10, 25, 25, 25)\n",
      "lsd took 0.0622 seconds.\n"
     ]
    }
   ],
   "source": [
    "import h5py\n",
    "import numpy as np\n",
    "from chunkflow.chunk import Chunk\n",
    "from dataset.local_shape_descriptor import get_local_shape_descriptors\n",
    "from time import time\n",
    "\n",
    "sigma = 8\n",
    "\n",
    "Path = './data/cremi'\n",
    "fileA = 'sample_A'\n",
    "fileB = 'sample_B'\n",
    "fileC = 'sample_C'\n",
    "\n",
    "files = [fileA, fileB, fileC]\n",
    "files = [fileA]\n",
    "\n",
    "volumes = []\n",
    "for file in files:\n",
    "    label = Chunk.from_h5(\n",
    "        f'{Path}/{file}.hdf', dataset_path='volumes/labels/neuron_ids')\n",
    "    print('label: ', label.shape)\n",
    "    sigma_tuple = (8.0,)*3\n",
    "    ping = time()\n",
    "    lsd = get_local_shape_descriptors(np.squeeze(label[:25,:25,:25]), sigma_tuple)\n",
    "    print('lsd: ', lsd.shape)\n",
    "    print(f'lsd took {round(time()-ping, 4)} seconds.')\n",
    "    np.save(f'{Path}/{file}_lsd_s={sigma}.npy',lsd)\n",
    "\n",
    "\n"
   ]
  },
  {
   "cell_type": "code",
   "execution_count": null,
   "metadata": {},
   "outputs": [],
   "source": []
  }
 ]
}