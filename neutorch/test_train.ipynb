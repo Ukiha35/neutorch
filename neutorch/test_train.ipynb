{
 "metadata": {
  "language_info": {
   "codemirror_mode": {
    "name": "ipython",
    "version": 3
   },
   "file_extension": ".py",
   "mimetype": "text/x-python",
   "name": "python",
   "nbconvert_exporter": "python",
   "pygments_lexer": "ipython3",
   "version": "3.9.5"
  },
  "orig_nbformat": 2,
  "kernelspec": {
   "name": "python3",
   "display_name": "Python 3",
   "language": "python"
  },
  "metadata": {
   "interpreter": {
    "hash": "ac2eaa0ea0ebeafcc7822e65e46aa9d4f966f30b695406963e145ea4a91cd4fc"
   }
  }
 },
 "nbformat": 4,
 "nbformat_minor": 2,
 "cells": [
  {
   "cell_type": "code",
   "execution_count": 27,
   "metadata": {},
   "outputs": [
    {
     "output_type": "stream",
     "name": "stdout",
     "text": [
      "The autoreload extension is already loaded. To reload it, use:\n  %reload_ext autoreload\n"
     ]
    }
   ],
   "source": [
    "import random\n",
    "import os\n",
    "from time import time\n",
    "\n",
    "import click\n",
    "import numpy as np\n",
    "\n",
    "import torch\n",
    "from torch.utils.tensorboard import SummaryWriter\n",
    "\n",
    "from model.IsoRSUNet import UNetModel\n",
    "from model.io import save_chkpt, log_tensor\n",
    "from model.loss import BinomialCrossEntropyWithLogits\n",
    "from dataset.affinity import Dataset\n",
    "\n",
    "%load_ext autoreload\n",
    "%autoreload 2"
   ]
  },
  {
   "cell_type": "code",
   "execution_count": 33,
   "metadata": {},
   "outputs": [],
   "source": [
    "def train(seed: int, training_split_ratio: float, patch_size: tuple,\n",
    "          iter_start: int, iter_stop: int, output_dir: str,\n",
    "          in_channels: int, out_channels: int, learning_rate: float,\n",
    "          training_interval: int, validation_interval: int):\n",
    "\n",
    "    random.seed(seed)\n",
    "\n",
    "    writer = SummaryWriter(log_dir=os.path.join(output_dir, 'log'))\n",
    "\n",
    "    model = UNetModel(in_channels, out_channels)\n",
    "    if torch.cuda.is_available():\n",
    "        model = model.cuda()\n",
    "\n",
    "    optimizer = torch.optim.Adam(model.parameters(), lr=learning_rate)\n",
    "\n",
    "    loss_module = BinomialCrossEntropyWithLogits()\n",
    "    dataset = Dataset(\n",
    "        patch_size=patch_size,\n",
    "        training_split_ratio=training_split_ratio\n",
    "    )\n",
    "\n",
    "    patch_voxel_num = np.product(patch_size)\n",
    "    accumulated_loss = 0.\n",
    "    for iter_idx in range(iter_start, iter_stop):\n",
    "\n",
    "        patch = dataset.random_training_patch\n",
    "\n",
    "  \n",
    "        image = np.expand_dims(patch.image, axis=0) # add dim for batch\n",
    "        target = np.expand_dims(patch.target, axis=0) # add dim for batch\n",
    "\n",
    "        image = torch.from_numpy(image)\n",
    "        target = torch.from_numpy(target)\n",
    "\n",
    "        # Transfer Data to GPU if available\n",
    "        if torch.cuda.is_available():\n",
    "            image = image.cuda()\n",
    "            target = target.cuda()\n",
    "\n",
    "      \n",
    "        logits = model(image)\n",
    "        loss = loss_module(logits, target)\n",
    "        optimizer.zero_grad()\n",
    "        loss.backward()\n",
    "        optimizer.step()\n",
    "        accumulated_loss += loss.cpu().tolist()\n",
    "\n",
    "        if iter_idx % training_interval == 0 and iter_idx > 0:\n",
    "            per_voxel_loss = accumulated_loss / training_interval / patch_voxel_num\n",
    "            print(f'training loss {round(per_voxel_loss, 3)}')\n",
    "            accumulated_loss = 0.\n",
    "            predict = torch.sigmoid(logits)\n",
    "            writer.add_scalar('Loss/train', per_voxel_loss, iter_idx)\n",
    "            log_tensor(writer, 'train/image', image, iter_idx)\n",
    "            # log_tensor(writer, 'train/prediction', predict, iter_idx)\n",
    "            # log_tensor(writer, 'train/target', target, iter_idx)\n",
    "\n",
    "        if iter_idx % validation_interval == 0 and iter_idx > 0:\n",
    "            fname = os.path.join(output_dir, f'model_{iter_idx}.chkpt')\n",
    "            print(f'save model to {fname}')\n",
    "            save_chkpt(model, output_dir, iter_idx, optimizer)\n",
    "\n",
    "            print('evaluate prediction: ')\n",
    "            patch = dataset.random_validation_patch\n",
    "            print('evaluation patch shape: ', patch.shape)\n",
    "            validation_image = torch.from_numpy(patch.image)\n",
    "            validation_target = torch.from_numpy(patch.label)\n",
    "            # Transfer Data to GPU if available\n",
    "            if torch.cuda.is_available():\n",
    "                validation_image = validation_image.cuda()\n",
    "                validation_target = validation_target.cuda()\n",
    "\n",
    "            with torch.no_grad():\n",
    "                validation_logits = UNetModel(validation_image)\n",
    "                validation_predict = torch.sigmoid(validation_logits)\n",
    "                validation_loss = loss_module(\n",
    "                    validation_logits, validation_target)\n",
    "                per_voxel_loss = validation_loss.cpu().tolist() / patch_voxel_num\n",
    "                print(\n",
    "                    f'iter {iter_idx}: validation loss: {round(per_voxel_loss, 3)}')\n",
    "                writer.add_scalar('Loss/validation', per_voxel_loss, iter_idx)\n",
    "                log_tensor(writer, 'evaluate/image',\n",
    "                           validation_image, iter_idx)\n",
    "                log_tensor(writer, 'evaluate/prediction',\n",
    "                           validation_predict, iter_idx)\n",
    "                log_tensor(writer, 'evaluate/target',\n",
    "                           validation_target, iter_idx)\n",
    "\n",
    "    writer.close()"
   ]
  },
  {
   "cell_type": "code",
   "execution_count": 35,
   "metadata": {},
   "outputs": [
    {
     "output_type": "stream",
     "name": "stdout",
     "text": [
      "training loss 19.594\n"
     ]
    },
    {
     "output_type": "error",
     "ename": "RuntimeError",
     "evalue": "expand(torch.FloatTensor{[13, 64, 64]}, size=[64, 64]): the number of sizes provided (2) must be greater or equal to the number of dimensions in the tensor (3)",
     "traceback": [
      "\u001b[0;31m---------------------------------------------------------------------------\u001b[0m",
      "\u001b[0;31mRuntimeError\u001b[0m                              Traceback (most recent call last)",
      "\u001b[0;32m<ipython-input-35-9656b38f1b52>\u001b[0m in \u001b[0;36m<module>\u001b[0;34m\u001b[0m\n\u001b[1;32m     11\u001b[0m \u001b[0mvalidation_interval\u001b[0m \u001b[0;34m=\u001b[0m \u001b[0;36m1000\u001b[0m\u001b[0;34m\u001b[0m\u001b[0;34m\u001b[0m\u001b[0m\n\u001b[1;32m     12\u001b[0m \u001b[0;34m\u001b[0m\u001b[0m\n\u001b[0;32m---> 13\u001b[0;31m train(seed, training_split_ratio, patch_size,\n\u001b[0m\u001b[1;32m     14\u001b[0m           \u001b[0miter_start\u001b[0m\u001b[0;34m,\u001b[0m \u001b[0miter_stop\u001b[0m\u001b[0;34m,\u001b[0m \u001b[0moutput_dir\u001b[0m\u001b[0;34m,\u001b[0m\u001b[0;34m\u001b[0m\u001b[0;34m\u001b[0m\u001b[0m\n\u001b[1;32m     15\u001b[0m           \u001b[0min_channels\u001b[0m\u001b[0;34m,\u001b[0m \u001b[0mout_channels\u001b[0m\u001b[0;34m,\u001b[0m \u001b[0mlearning_rate\u001b[0m\u001b[0;34m,\u001b[0m\u001b[0;34m\u001b[0m\u001b[0;34m\u001b[0m\u001b[0m\n",
      "\u001b[0;32m<ipython-input-33-15e25691b797>\u001b[0m in \u001b[0;36mtrain\u001b[0;34m(seed, training_split_ratio, patch_size, iter_start, iter_stop, output_dir, in_channels, out_channels, learning_rate, training_interval, validation_interval)\u001b[0m\n\u001b[1;32m     53\u001b[0m             \u001b[0mwriter\u001b[0m\u001b[0;34m.\u001b[0m\u001b[0madd_scalar\u001b[0m\u001b[0;34m(\u001b[0m\u001b[0;34m'Loss/train'\u001b[0m\u001b[0;34m,\u001b[0m \u001b[0mper_voxel_loss\u001b[0m\u001b[0;34m,\u001b[0m \u001b[0miter_idx\u001b[0m\u001b[0;34m)\u001b[0m\u001b[0;34m\u001b[0m\u001b[0;34m\u001b[0m\u001b[0m\n\u001b[1;32m     54\u001b[0m             \u001b[0mlog_tensor\u001b[0m\u001b[0;34m(\u001b[0m\u001b[0mwriter\u001b[0m\u001b[0;34m,\u001b[0m \u001b[0;34m'train/image'\u001b[0m\u001b[0;34m,\u001b[0m \u001b[0mimage\u001b[0m\u001b[0;34m,\u001b[0m \u001b[0miter_idx\u001b[0m\u001b[0;34m)\u001b[0m\u001b[0;34m\u001b[0m\u001b[0;34m\u001b[0m\u001b[0m\n\u001b[0;32m---> 55\u001b[0;31m             \u001b[0mlog_tensor\u001b[0m\u001b[0;34m(\u001b[0m\u001b[0mwriter\u001b[0m\u001b[0;34m,\u001b[0m \u001b[0;34m'train/prediction'\u001b[0m\u001b[0;34m,\u001b[0m \u001b[0mpredict\u001b[0m\u001b[0;34m,\u001b[0m \u001b[0miter_idx\u001b[0m\u001b[0;34m)\u001b[0m\u001b[0;34m\u001b[0m\u001b[0;34m\u001b[0m\u001b[0m\n\u001b[0m\u001b[1;32m     56\u001b[0m             \u001b[0mlog_tensor\u001b[0m\u001b[0;34m(\u001b[0m\u001b[0mwriter\u001b[0m\u001b[0;34m,\u001b[0m \u001b[0;34m'train/target'\u001b[0m\u001b[0;34m,\u001b[0m \u001b[0mtarget\u001b[0m\u001b[0;34m,\u001b[0m \u001b[0miter_idx\u001b[0m\u001b[0;34m)\u001b[0m\u001b[0;34m\u001b[0m\u001b[0;34m\u001b[0m\u001b[0m\n\u001b[1;32m     57\u001b[0m \u001b[0;34m\u001b[0m\u001b[0m\n",
      "\u001b[0;32m~/sc/neutorch/neutorch/model/io.py\u001b[0m in \u001b[0;36mlog_tensor\u001b[0;34m(writer, tag, tensor, iter_idx, nrow)\u001b[0m\n\u001b[1;32m     66\u001b[0m         \u001b[0mcol\u001b[0m \u001b[0;34m=\u001b[0m \u001b[0mz\u001b[0m \u001b[0;34m%\u001b[0m \u001b[0mnrow\u001b[0m\u001b[0;34m\u001b[0m\u001b[0;34m\u001b[0m\u001b[0m\n\u001b[1;32m     67\u001b[0m         \u001b[0;31m# print(col)\u001b[0m\u001b[0;34m\u001b[0m\u001b[0;34m\u001b[0m\u001b[0;34m\u001b[0m\u001b[0m\n\u001b[0;32m---> 68\u001b[0;31m         \u001b[0mimg\u001b[0m\u001b[0;34m[\u001b[0m\u001b[0mrow\u001b[0m\u001b[0;34m*\u001b[0m\u001b[0mheight\u001b[0m \u001b[0;34m:\u001b[0m \u001b[0;34m(\u001b[0m\u001b[0mrow\u001b[0m\u001b[0;34m+\u001b[0m\u001b[0;36m1\u001b[0m\u001b[0;34m)\u001b[0m\u001b[0;34m*\u001b[0m\u001b[0mheight\u001b[0m\u001b[0;34m,\u001b[0m \u001b[0mcol\u001b[0m\u001b[0;34m*\u001b[0m\u001b[0mwidth\u001b[0m \u001b[0;34m:\u001b[0m \u001b[0;34m(\u001b[0m\u001b[0mcol\u001b[0m\u001b[0;34m+\u001b[0m\u001b[0;36m1\u001b[0m\u001b[0;34m)\u001b[0m\u001b[0;34m*\u001b[0m\u001b[0mwidth\u001b[0m \u001b[0;34m]\u001b[0m \u001b[0;34m=\u001b[0m \u001b[0mtorch\u001b[0m\u001b[0;34m.\u001b[0m\u001b[0msqueeze\u001b[0m\u001b[0;34m(\u001b[0m\u001b[0mtensor\u001b[0m\u001b[0;34m[\u001b[0m\u001b[0;34m...\u001b[0m\u001b[0;34m,\u001b[0m\u001b[0mz\u001b[0m\u001b[0;34m,\u001b[0m \u001b[0;34m:\u001b[0m\u001b[0;34m,\u001b[0m \u001b[0;34m:\u001b[0m\u001b[0;34m]\u001b[0m\u001b[0;34m)\u001b[0m\u001b[0;34m\u001b[0m\u001b[0;34m\u001b[0m\u001b[0m\n\u001b[0m\u001b[1;32m     69\u001b[0m     \u001b[0mwriter\u001b[0m\u001b[0;34m.\u001b[0m\u001b[0madd_image\u001b[0m\u001b[0;34m(\u001b[0m\u001b[0mtag\u001b[0m\u001b[0;34m,\u001b[0m \u001b[0mimg\u001b[0m\u001b[0;34m,\u001b[0m \u001b[0miter_idx\u001b[0m\u001b[0;34m,\u001b[0m \u001b[0mdataformats\u001b[0m\u001b[0;34m=\u001b[0m\u001b[0;34m'HW'\u001b[0m\u001b[0;34m)\u001b[0m\u001b[0;34m\u001b[0m\u001b[0;34m\u001b[0m\u001b[0m\n",
      "\u001b[0;31mRuntimeError\u001b[0m: expand(torch.FloatTensor{[13, 64, 64]}, size=[64, 64]): the number of sizes provided (2) must be greater or equal to the number of dimensions in the tensor (3)"
     ]
    }
   ],
   "source": [
    "seed = 7\n",
    "training_split_ratio = 0.8\n",
    "patch_size = (64, 64, 64)\n",
    "iter_start = 0\n",
    "iter_stop = 200000\n",
    "output_dir = './output'\n",
    "in_channels = 1\n",
    "out_channels = 13\n",
    "learning_rate = 0.001\n",
    "training_interval = 1\n",
    "validation_interval = 1000\n",
    "\n",
    "train(seed, training_split_ratio, patch_size,\n",
    "          iter_start, iter_stop, output_dir,\n",
    "          in_channels, out_channels, learning_rate,\n",
    "          training_interval, validation_interval)"
   ]
  },
  {
   "cell_type": "code",
   "execution_count": null,
   "metadata": {},
   "outputs": [],
   "source": []
  }
 ]
}