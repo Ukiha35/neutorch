{
 "cells": [
  {
   "cell_type": "code",
   "execution_count": 1,
   "metadata": {},
   "outputs": [],
   "source": [
    "import numpy as np\n",
    "from skimage.transform import resize\n",
    "from skimage import color\n",
    "import matplotlib.pyplot as plt\n",
    "import IPython\n",
    "\n",
    "%load_ext autoreload\n",
    "%autoreload 2\n",
    "%matplotlib inline\n",
    "\n",
    "def scale_data(vol, seg, size=180):\n",
    "    length = vol.shape[0]\n",
    "    vol = resize(vol, (length, size, size))\n",
    "    seg = resize(seg, (length, size, size), order=0, preserve_range=True, anti_aliasing=False)\n",
    "\n",
    "    return (vol, seg)\n",
    "    \n",
    "def label_data(vol, seg):\n",
    "    length = vol.shape[0]\n",
    "    x = vol.shape[1]\n",
    "    y = vol.shape[2]\n",
    "    # reshape for labeling\n",
    "    seg = np.reshape(seg, (length, x*y) )\n",
    "    vol = np.reshape(vol, (length, x*y) )\n",
    "    # label\n",
    "    labeled = color.label2rgb(seg, vol, alpha=0.1, bg_label=-1)\n",
    "    # shape back\n",
    "    labeled = np.reshape(labeled, (length, x, y, 3) )\n",
    "\n",
    "    return labeled\n",
    "\n",
    "def vis_volume(volume, fig_size=6.5):\n",
    "    length = volume.shape[0]\n",
    "    \n",
    "    # set up\n",
    "    fig = plt.figure()\n",
    "    fig.set_size_inches(fig_size, fig_size)\n",
    "    axes = fig.add_subplot()\n",
    "    hfig = display(fig, display_id=True)\n",
    "\n",
    "    # display\n",
    "    for i in range(length):\n",
    "        axes.imshow(volume[i], interpolation='none', filternorm=False, resample=False)\n",
    "        fig.canvas.draw()\n",
    "        hfig.update(fig)\n",
    "        if i != length-1:\n",
    "            plt.cla()\n",
    "    # clean up\n",
    "    IPython.display.clear_output()\n",
    "\n",
    "def view_patch(patch,i=0):\n",
    "    plt.rcParams['image.interpolation'] = 'nearest'\n",
    "    fig, axarr = plt.subplots(3,4)\n",
    "    fig.set_size_inches(16, 10)\n",
    "    axarr[0,0].imshow(patch.image[0][i], cmap='gray')\n",
    "    axarr[0,1].imshow(patch.label[0][i], cmap='prism')\n",
    "    axarr[0,2].imshow(label_data(patch.image[0],patch.label[0])[i])\n",
    "    axarr[1,0].imshow(patch.affinity[0][i], cmap='gray')\n",
    "    axarr[1,1].imshow(patch.affinity[1][i], cmap='gray')\n",
    "    axarr[1,2].imshow(patch.affinity[2][i], cmap='gray')\n",
    "    axarr[2,0].imshow(patch.get_lsd_channel(0)[i,:,:,0])\n",
    "    axarr[2,1].imshow(patch.get_lsd_channel(1)[i,:,:,0])\n",
    "    axarr[2,2].imshow(patch.get_lsd_channel(2)[i,:,:,0])\n",
    "    axarr[2,3].imshow(patch.get_lsd_channel(3)[i], cmap='gray')\n",
    "    plt.show()\n",
    "\n",
    "\n",
    "def view_affinity(affinity,i=0):\n",
    "    plt.rcParams['image.interpolation'] = 'nearest'\n",
    "    fig, axarr = plt.subplots(1,3)\n",
    "    fig.set_size_inches(24, 20)\n",
    "    axarr[0].imshow(affinity[0][i], cmap='gray')\n",
    "    axarr[1].imshow(affinity[1][i], cmap='gray')\n",
    "    axarr[2].imshow(affinity[2][i], cmap='gray')\n",
    "    plt.show()"
   ]
  },
  {
   "cell_type": "code",
   "execution_count": 33,
   "metadata": {},
   "outputs": [
    {
     "name": "stdout",
     "output_type": "stream",
     "text": [
      "(9, 88, 88)\n",
      "loading from ../../data/sample_A_pad.hdf...\n",
      "25725\n",
      "(200, 3072, 3072)\n"
     ]
    }
   ],
   "source": [
    "from neutorch.dataset.affinity import TestDataset\n",
    "from neutorch.dataset.utils import from_h5\n",
    "import numpy as np\n",
    "\n",
    "patch_size =  (26,256,256)\n",
    "stride = (8,80,80)\n",
    "begin = []\n",
    "for i in range(len(patch_size)):\n",
    "    c = patch_size[i] // 2\n",
    "    o = stride[i] // 2\n",
    "    begin.append(c-o)\n",
    "begin = tuple(begin)\n",
    "print(begin)\n",
    "dataset = TestDataset('../../data/sample_A_pad.hdf', patch_size, stride, with_label=True)\n",
    "full = np.zeros(dataset.full_shape)\n",
    "print(len(dataset))\n",
    "print(dataset.full_shape)\n",
    "\n",
    "\n"
   ]
  },
  {
   "cell_type": "code",
   "execution_count": 3,
   "metadata": {},
   "outputs": [],
   "source": [
    "from neutorch.dataset.utils import from_h5\n",
    "\n",
    "path = '../../data'\n",
    "file = 'sample_A'\n",
    "\n",
    "image = from_h5(f'{path}/{file}.hdf', dataset_path='volumes/raw')\n",
    "label = from_h5(\n",
    "f'{path}/{file}.hdf', dataset_path='volumes/labels/neuron_ids')"
   ]
  },
  {
   "cell_type": "code",
   "execution_count": 2,
   "metadata": {},
   "outputs": [
    {
     "name": "stdout",
     "output_type": "stream",
     "text": [
      "If you use TorchIO for your research, please cite the following paper:\n",
      "Pérez-García et al., TorchIO: a Python library for efficient loading,\n",
      "preprocessing, augmentation and patch-based sampling of medical images\n",
      "in deep learning. Credits instructions: https://torchio.readthedocs.io/#credits\n",
      "\n"
     ]
    }
   ],
   "source": [
    "from neutorch.dataset.utils import from_h5\n",
    "from neutorch.dataset.proofread import ProofreadDataset\n",
    "import cc3d\n",
    "\n",
    "path = '../../data'\n",
    "file = 'sample_C'\n",
    "\n",
    "image = from_h5(f'{path}/{file}.hdf', dataset_path='volumes/raw')\n",
    "true_label = from_h5(\n",
    "f'{path}/{file}.hdf', dataset_path='volumes/labels/neuron_ids')\n",
    "pred_label = np.load(f'../../swin_run/segmentation_700000_{file}_pad.npy')\n",
    "\n",
    "pred_label = cc3d.connected_components(pred_label) \n"
   ]
  },
  {
   "cell_type": "code",
   "execution_count": 3,
   "metadata": {},
   "outputs": [
    {
     "name": "stdout",
     "output_type": "stream",
     "text": [
      "10023190 118336\n",
      "7077905 105767\n",
      "6572304 619489\n",
      "6120930 105575\n",
      "5449124 625543\n",
      "4526817 70955\n",
      "3695330 619486\n"
     ]
    }
   ],
   "source": [
    "dataset = ProofreadDataset(image, pred_label, true_label, name=file)\n"
   ]
  },
  {
   "cell_type": "code",
   "execution_count": 4,
   "metadata": {},
   "outputs": [
    {
     "name": "stdout",
     "output_type": "stream",
     "text": [
      "118336\n",
      "indices took 0.959\n",
      "[ 14   0 209] [  73  669 1249]\n",
      "(slice(10, 78, None), slice(0, 710, None), slice(169, 1250, None))\n",
      "crop took 1.79\n",
      "add channel took 1.102\n",
      "zero other classes took 0.302\n",
      "expandtook 11.652\n",
      "combined 1.49\n",
      "pad took 2.582\n",
      "rearrange took 3.957\n",
      "split 6.707\n",
      "drop 1.483\n",
      "pre len: 82261\n",
      "total vol: 84235264\n",
      "max_patches 13312\n",
      "post len: 13312\n",
      "drop again 0.795\n"
     ]
    }
   ],
   "source": [
    "img, lbl = dataset[0]"
   ]
  },
  {
   "cell_type": "code",
   "execution_count": 6,
   "metadata": {},
   "outputs": [
    {
     "name": "stdout",
     "output_type": "stream",
     "text": [
      "(13312, 4, 1, 16, 16) (13312, 1, 1, 16, 16)\n"
     ]
    }
   ],
   "source": [
    "print(img.shape, lbl.shape)"
   ]
  },
  {
   "cell_type": "code",
   "execution_count": 8,
   "metadata": {},
   "outputs": [],
   "source": [
    "\n",
    "recon = np.zeros((125+1,1250+16,1250+16))\n",
    "recon_label = np.zeros((125+1,1250+16,1250+16, 3))\n",
    "for j in range(img.shape[0]):\n",
    "    patch = img[j]\n",
    "    seg = lbl[j][0]\n",
    "    val = patch[0]\n",
    "    sz = val.shape\n",
    "    coors = patch[1:]\n",
    "    st = coors[:,0,0,0].astype(int)\n",
    "    \n",
    "    recon[st[0]:st[0]+sz[0],st[1]:st[1]+sz[1],st[2]:st[2]+sz[2]] = val"
   ]
  },
  {
   "cell_type": "code",
   "execution_count": 9,
   "metadata": {},
   "outputs": [
    {
     "data": {
      "image/png": "[encoded data removed]",
      "text/plain": "<Figure size 468x468 with 1 Axes>"
     },
     "metadata": {
      "needs_background": "light"
     },
     "output_type": "display_data"
    }
   ],
   "source": [
    "vis_volume(recon)"
   ]
  },
  {
   "cell_type": "code",
   "execution_count": 15,
   "metadata": {},
   "outputs": [],
   "source": [
    "alt = pred_label.copy()\n",
    "alt[alt != 64] = 0\n",
    "alt[alt == 64] = 200"
   ]
  },
  {
   "cell_type": "code",
   "execution_count": 17,
   "metadata": {},
   "outputs": [
    {
     "data": {
      "image/png": "[encoded data removed]",
      "text/plain": "<Figure size 468x468 with 1 Axes>"
     },
     "metadata": {
      "needs_background": "light"
     },
     "output_type": "display_data"
    }
   ],
   "source": [
    "vis_volume(alt)"
   ]
  },
  {
   "cell_type": "code",
   "execution_count": 72,
   "metadata": {},
   "outputs": [
    {
     "data": {
      "image/png": "[encoded data removed]",
      "text/plain": "<Figure size 468x468 with 1 Axes>"
     },
     "metadata": {
      "needs_background": "light"
     },
     "output_type": "display_data"
    }
   ],
   "source": [
    "vis_volume(recon_label)"
   ]
  },
  {
   "cell_type": "code",
   "execution_count": null,
   "metadata": {},
   "outputs": [],
   "source": []
  }
 ],
 "metadata": {
  "kernelspec": {
   "display_name": "Python 3.9.5 64-bit ('python@3.9')",
   "name": "python395jvsc74a57bd0ac2eaa0ea0ebeafcc7822e65e46aa9d4f966f30b695406963e145ea4a91cd4fc"
  },
  "language_info": {
   "codemirror_mode": {
    "name": "ipython",
    "version": 3
   },
   "file_extension": ".py",
   "mimetype": "text/x-python",
   "name": "python",
   "nbconvert_exporter": "python",
   "pygments_lexer": "ipython3",
   "version": "3.9.5"
  },
  "metadata": {
   "interpreter": {
    "hash": "ac2eaa0ea0ebeafcc7822e65e46aa9d4f966f30b695406963e145ea4a91cd4fc"
   }
  }
 },
 "nbformat": 4,
 "nbformat_minor": 4
}