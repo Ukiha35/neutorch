{
 "cells": [
  {
   "cell_type": "code",
   "execution_count": 1,
   "metadata": {},
   "outputs": [],
   "source": [
    "import numpy as np\n",
    "from skimage.transform import resize\n",
    "from skimage import color\n",
    "import matplotlib.pyplot as plt\n",
    "import IPython\n",
    "\n",
    "%load_ext autoreload\n",
    "%autoreload 2\n",
    "%matplotlib inline\n",
    "\n",
    "def scale_data(vol, seg, size=180):\n",
    "    length = vol.shape[0]\n",
    "    vol = resize(vol, (length, size, size))\n",
    "    seg = resize(seg, (length, size, size), order=0, preserve_range=True, anti_aliasing=False)\n",
    "\n",
    "    return (vol, seg)\n",
    "    \n",
    "def label_data(vol, seg):\n",
    "    length = vol.shape[0]\n",
    "    size = vol.shape[1]\n",
    "    # reshape for labeling\n",
    "    seg = np.reshape(seg, (size, length*size) )\n",
    "    vol = np.reshape(vol, (size, length*size) )\n",
    "    # label\n",
    "    labeled = color.label2rgb(seg, vol, alpha=0.1, bg_label=0)\n",
    "    # shape back\n",
    "    labeled = np.reshape(labeled, (length, size, size, 3) )\n",
    "\n",
    "    return labeled\n",
    "\n",
    "def vis_volume(volume, fig_size=6.5):\n",
    "    length = volume.shape[0]\n",
    "    \n",
    "    # set up\n",
    "    fig = plt.figure()\n",
    "    fig.set_size_inches(fig_size, fig_size)\n",
    "    axes = fig.add_subplot()\n",
    "    hfig = display(fig, display_id=True)\n",
    "\n",
    "    # display\n",
    "    for i in range(length):\n",
    "        axes.imshow(volume[i], cmap='gray', interpolation='none', filternorm=False, resample=False)\n",
    "        fig.canvas.draw()\n",
    "        hfig.update(fig)\n",
    "        if i != length-1:\n",
    "            plt.cla()\n",
    "    # clean up\n",
    "    IPython.display.clear_output()\n",
    "\n",
    "def view_patch(patch,i=0):\n",
    "    plt.rcParams['image.interpolation'] = 'nearest'\n",
    "    fig, axarr = plt.subplots(3,4)\n",
    "    fig.set_size_inches(16, 10)\n",
    "    axarr[0,0].imshow(patch.image[0][i], cmap='gray')\n",
    "    axarr[0,1].imshow(patch.label[0][i], cmap='prism')\n",
    "    axarr[0,2].imshow(label_data(patch.image[0],patch.label[0])[i])\n",
    "    axarr[1,0].imshow(patch.affinity[0][i], cmap='gray')\n",
    "    axarr[1,1].imshow(patch.affinity[1][i], cmap='gray')\n",
    "    axarr[1,2].imshow(patch.affinity[2][i], cmap='gray')\n",
    "    axarr[2,0].imshow(patch.get_lsd_channel(0)[i,:,:,0])\n",
    "    axarr[2,1].imshow(patch.get_lsd_channel(1)[i,:,:,0])\n",
    "    axarr[2,2].imshow(patch.get_lsd_channel(2)[i,:,:,0])\n",
    "    axarr[2,3].imshow(patch.get_lsd_channel(3)[i], cmap='gray')\n",
    "    plt.show()\n",
    "\n",
    "\n",
    "def view_affinity(affinity,i=0):\n",
    "    plt.rcParams['image.interpolation'] = 'nearest'\n",
    "    fig, axarr = plt.subplots(1,3)\n",
    "    fig.set_size_inches(16, 10)\n",
    "    axarr[0].imshow(affinity[0][i], cmap='gray')\n",
    "    axarr[1].imshow(affinity[1][i], cmap='gray')\n",
    "    axarr[2].imshow(affinity[2][i], cmap='gray')\n",
    "    plt.show()"
   ]
  },
  {
   "cell_type": "code",
   "execution_count": null,
   "metadata": {},
   "outputs": [],
   "source": [
    "from neutorch.dataset.affinity import Dataset\n",
    "from neutorch.dataset.ground_truth_volume import *\n",
    "\n",
    "dataset = Dataset('../../data', patch_size=(26,256,256), length=100)"
   ]
  },
  {
   "cell_type": "code",
   "execution_count": 2,
   "metadata": {},
   "outputs": [
    {
     "ename": "NameError",
     "evalue": "name 'dataset' is not defined",
     "output_type": "error",
     "traceback": [
      "\u001b[0;31m---------------------------------------------------------------------------\u001b[0m",
      "\u001b[0;31mNameError\u001b[0m                                 Traceback (most recent call last)",
      "\u001b[0;32m<ipython-input-2-1cc0a1a06614>\u001b[0m in \u001b[0;36m<module>\u001b[0;34m\u001b[0m\n\u001b[1;32m      4\u001b[0m \u001b[0mi\u001b[0m \u001b[0;34m=\u001b[0m \u001b[0;36m5\u001b[0m\u001b[0;34m\u001b[0m\u001b[0;34m\u001b[0m\u001b[0m\n\u001b[1;32m      5\u001b[0m \u001b[0;34m\u001b[0m\u001b[0m\n\u001b[0;32m----> 6\u001b[0;31m \u001b[0mpatch\u001b[0m \u001b[0;34m=\u001b[0m \u001b[0mdataset\u001b[0m\u001b[0;34m.\u001b[0m\u001b[0mrandom_training_patch\u001b[0m\u001b[0;34m\u001b[0m\u001b[0;34m\u001b[0m\u001b[0m\n\u001b[0m\u001b[1;32m      7\u001b[0m \u001b[0maffinity\u001b[0m \u001b[0;34m=\u001b[0m \u001b[0mpatch\u001b[0m\u001b[0;34m.\u001b[0m\u001b[0maffinity\u001b[0m\u001b[0;34m\u001b[0m\u001b[0;34m\u001b[0m\u001b[0m\n\u001b[1;32m      8\u001b[0m \u001b[0mlabel\u001b[0m \u001b[0;34m=\u001b[0m \u001b[0mpatch\u001b[0m\u001b[0;34m.\u001b[0m\u001b[0mlabel\u001b[0m\u001b[0;34m\u001b[0m\u001b[0;34m\u001b[0m\u001b[0m\n",
      "\u001b[0;31mNameError\u001b[0m: name 'dataset' is not defined"
     ]
    }
   ],
   "source": [
    "from waterz import agglomerate\n",
    "import numpy as np\n",
    "\n",
    "i = 5\n",
    "\n",
    "patch = dataset.random_training_patch\n",
    "affinity = patch.affinity\n",
    "label = patch.label\n",
    "\n",
    "view_patch(patch,i=i)\n",
    "# affs is a [3, z, y, x] numpy array of float32\n",
    "affs = np.flip(affinity, axis=0)\n",
    "affs = np.ascontiguousarray(affs, dtype=np.float32) \n",
    "\n",
    "ground_truth = np.ascontiguousarray(label[0], dtype=np.uint32) \n",
    "thresholds = [0.1,1,10]\n",
    "view_affinity(affs,i=i)\n",
    "print(affs.shape)\n",
    "seg_generator = agglomerate(affs, thresholds, gt=ground_truth,\n",
    "       aff_threshold_low=0.1,\n",
    "        aff_threshold_high=0.9,\n",
    "        return_merge_history=True,\n",
    "        return_region_graph=False)\n",
    "\n",
    "for seg, metrics, merge_history in seg_generator:\n",
    "        print(seg.shape, metrics)\n",
    "        print(len(np.unique(seg)))\n",
    "        plt.imshow(seg[i], cmap='prism')\n",
    "        plt.show()\n"
   ]
  },
  {
   "cell_type": "code",
   "execution_count": null,
   "metadata": {},
   "outputs": [],
   "source": [
    "from waterz import agglomerate\n",
    "import numpy as np\n",
    "from neutorch.cremi.neuron_ids import NeuronIds\n",
    "import math\n",
    "\n",
    "def get_agglo(affs, thresholds):\n",
    "\n",
    "    print(affs.shape, affs.dtype)\n",
    "    # flip so affinity channel is z,y,x NOT x,y,z\n",
    "    affs = np.flip(affs, axis=0)\n",
    "    affs = np.ascontiguousarray(affs, dtype=np.float32) \n",
    "\n",
    "    seg_generator = agglomerate(affs, thresholds,\n",
    "            aff_threshold_low=0.001,\n",
    "            aff_threshold_high=0.999,\n",
    "            return_merge_history=False,\n",
    "            return_region_graph=False)\n",
    "\n",
    "    res = []\n",
    "    for seg in seg_generator:\n",
    "        cur = seg.copy()\n",
    "        res.append(cur)\n",
    "\n",
    "    return res\n",
    "\n",
    "\n",
    "def cremi_test(test, truth, border_threshold):\n",
    "    neuron_ids_evaluation = NeuronIds(truth, border_threshold=border_threshold)\n",
    "    (voi_split, voi_merge) = neuron_ids_evaluation.voi(test)\n",
    "    adapted_rand = neuron_ids_evaluation.adapted_rand(test)\n",
    "    cremi_score = math.sqrt((voi_split + voi_merge) * adapted_rand) # the geometric mean of (VOI split + VOI merge) and ARAND.\n",
    "    \n",
    "    print(f'voi_split: {voi_split}, voi_merge: {voi_merge}, adapted_rand: {adapted_rand}')\n",
    "    print(f'CREMI score: {cremi_score}')\n",
    "\n"
   ]
  },
  {
   "cell_type": "code",
   "execution_count": 3,
   "metadata": {},
   "outputs": [
    {
     "ename": "NameError",
     "evalue": "name 'dataset' is not defined",
     "output_type": "error",
     "traceback": [
      "\u001b[0;31m---------------------------------------------------------------------------\u001b[0m",
      "\u001b[0;31mNameError\u001b[0m                                 Traceback (most recent call last)",
      "\u001b[0;32m<ipython-input-3-2880705ca85f>\u001b[0m in \u001b[0;36m<module>\u001b[0;34m\u001b[0m\n\u001b[0;32m----> 1\u001b[0;31m \u001b[0mpatch\u001b[0m \u001b[0;34m=\u001b[0m \u001b[0mdataset\u001b[0m\u001b[0;34m.\u001b[0m\u001b[0mrandom_training_patch\u001b[0m\u001b[0;34m\u001b[0m\u001b[0;34m\u001b[0m\u001b[0m\n\u001b[0m\u001b[1;32m      2\u001b[0m \u001b[0;34m\u001b[0m\u001b[0m\n\u001b[1;32m      3\u001b[0m \u001b[0maffinity\u001b[0m \u001b[0;34m=\u001b[0m \u001b[0mpatch\u001b[0m\u001b[0;34m.\u001b[0m\u001b[0maffinity\u001b[0m\u001b[0;34m\u001b[0m\u001b[0;34m\u001b[0m\u001b[0m\n\u001b[1;32m      4\u001b[0m \u001b[0mtruth\u001b[0m \u001b[0;34m=\u001b[0m \u001b[0mnp\u001b[0m\u001b[0;34m.\u001b[0m\u001b[0msqueeze\u001b[0m\u001b[0;34m(\u001b[0m\u001b[0mpatch\u001b[0m\u001b[0;34m.\u001b[0m\u001b[0mlabel\u001b[0m\u001b[0;34m)\u001b[0m\u001b[0;34m.\u001b[0m\u001b[0mastype\u001b[0m\u001b[0;34m(\u001b[0m\u001b[0mnp\u001b[0m\u001b[0;34m.\u001b[0m\u001b[0muint64\u001b[0m\u001b[0;34m)\u001b[0m\u001b[0;34m\u001b[0m\u001b[0;34m\u001b[0m\u001b[0m\n\u001b[1;32m      5\u001b[0m \u001b[0;34m\u001b[0m\u001b[0m\n",
      "\u001b[0;31mNameError\u001b[0m: name 'dataset' is not defined"
     ]
    }
   ],
   "source": [
    "patch = dataset.random_training_patch\n",
    "\n",
    "affinity = patch.affinity\n",
    "truth = np.squeeze(patch.label).astype(np.uint64)\n",
    "\n",
    "thresholds = [0.1,0.7,1,10]\n",
    "view_affinity(affinity)\n",
    "tests = get_agglo(affinity, thresholds)\n",
    "\n",
    "i=0\n",
    "plt.imshow(truth[i], cmap='prism')\n",
    "plt.show()\n",
    "print(len(np.unique(truth)))\n",
    "for test in tests:\n",
    "    print(len(np.unique(test)))\n",
    "    plt.imshow(test[i], cmap='prism')\n",
    "    plt.show()\n",
    "    cremi_test(test, truth, 1)\n",
    "    "
   ]
  },
  {
   "cell_type": "code",
   "execution_count": 5,
   "metadata": {},
   "outputs": [
    {
     "name": "stdout",
     "output_type": "stream",
     "text": [
      "If you use TorchIO for your research, please cite the following paper:\n",
      "Pérez-García et al., TorchIO: a Python library for efficient loading,\n",
      "preprocessing, augmentation and patch-based sampling of medical images\n",
      "in deep learning. Credits instructions: https://torchio.readthedocs.io/#credits\n",
      "\n",
      "loading from ../../data/sample_A_pad.hdf...\n"
     ]
    }
   ],
   "source": [
    "from neutorch.dataset.affinity import TestDataset\n",
    "from neutorch.dataset.utils import from_h5\n",
    "import numpy as np\n",
    "\n",
    "dataset = TestDataset('../../data/sample_A_pad.hdf', (26,256,256), with_label=True)\n",
    "label = dataset.label\n",
    "(sz, sy, sx) = label.shape\n",
    "(oz, oy, ox) = dataset.label_offset"
   ]
  },
  {
   "cell_type": "code",
   "execution_count": 6,
   "metadata": {},
   "outputs": [],
   "source": [
    "from neutorch.dataset.border_mask import create_border_mask\n",
    "mask_size = 2\n",
    "# add background mask\n",
    "masked_label = np.zeros(label.shape, dtype=np.uint64)\n",
    "create_border_mask(label, masked_label, 2, 0)\n",
    "label = masked_label"
   ]
  },
  {
   "cell_type": "code",
   "execution_count": 7,
   "metadata": {},
   "outputs": [
    {
     "name": "stdout",
     "output_type": "stream",
     "text": [
      "9120\n"
     ]
    }
   ],
   "source": [
    "t_classes, t_counts = np.unique(label, return_counts=True)\n",
    "print(len(t_classes))\n",
    "\n",
    "t_counts.sort()"
   ]
  },
  {
   "cell_type": "code",
   "execution_count": 8,
   "metadata": {},
   "outputs": [
    {
     "name": "stdout",
     "output_type": "stream",
     "text": [
      "[       1        1        1 ...  2205764  2329106 27842743]\n",
      "1703936\n"
     ]
    },
    {
     "data": {
      "image/png": "[encoded data removed]",
      "text/plain": "<Figure size 432x288 with 1 Axes>"
     },
     "metadata": {
      "needs_background": "light"
     },
     "output_type": "display_data"
    }
   ],
   "source": [
    "import matplotlib.pyplot as plt\n",
    "import numpy as np\n",
    "\n",
    "\n",
    "def plot_loghist(x, bins):\n",
    "  hist, bins = np.histogram(x, bins=bins)\n",
    "  logbins = np.logspace(np.log10(bins[0]),np.log10(bins[-1]),len(bins))\n",
    "  plt.hist(x, bins=logbins)\n",
    "  plt.xscale('log')\n",
    "\n",
    "\n",
    "\n",
    "print(t_counts)\n",
    "print(26*256*256)\n",
    "filtered = list(filter(lambda x: x>10, t_counts))\n",
    "\n",
    "plot_loghist(t_counts[:-1],100)\n",
    "plt.show()\n",
    "\n"
   ]
  },
  {
   "cell_type": "code",
   "execution_count": 39,
   "metadata": {},
   "outputs": [
    {
     "data": {
      "image/png": "[encoded data removed]",
      "text/plain": "<Figure size 720x720 with 1 Axes>"
     },
     "metadata": {
      "needs_background": "light"
     },
     "output_type": "display_data"
    }
   ],
   "source": [
    "plt.rcParams['image.interpolation'] = 'nearest'\n",
    "fig = plt.figure()\n",
    "fig.set_size_inches(10, 10)\n",
    "i=10\n",
    "plt.imshow(label[i], cmap='prism')\n",
    "plt.show()"
   ]
  },
  {
   "cell_type": "code",
   "execution_count": null,
   "metadata": {},
   "outputs": [],
   "source": []
  }
 ],
 "metadata": {
  "kernelspec": {
   "display_name": "Python 3.9.5 64-bit ('python@3.9')",
   "name": "python395jvsc74a57bd0ac2eaa0ea0ebeafcc7822e65e46aa9d4f966f30b695406963e145ea4a91cd4fc"
  },
  "language_info": {
   "codemirror_mode": {
    "name": "ipython",
    "version": 3
   },
   "file_extension": ".py",
   "mimetype": "text/x-python",
   "name": "python",
   "nbconvert_exporter": "python",
   "pygments_lexer": "ipython3",
   "version": "3.9.5"
  },
  "metadata": {
   "interpreter": {
    "hash": "ac2eaa0ea0ebeafcc7822e65e46aa9d4f966f30b695406963e145ea4a91cd4fc"
   }
  },
  "orig_nbformat": 2
 },
 "nbformat": 4,
 "nbformat_minor": 2
}