{
 "cells": [
  {
   "cell_type": "code",
   "execution_count": 2,
   "source": [
    "import numpy as np\n",
    "from skimage.transform import resize\n",
    "from skimage import color\n",
    "import matplotlib.pyplot as plt\n",
    "import IPython\n",
    "\n",
    "%load_ext autoreload\n",
    "%autoreload 2\n",
    "%matplotlib inline\n",
    "\n",
    "def scale_data(vol, seg, size=180):\n",
    "    length = vol.shape[0]\n",
    "    vol = resize(vol, (length, size, size))\n",
    "    seg = resize(seg, (length, size, size), order=0, preserve_range=True, anti_aliasing=False)\n",
    "\n",
    "    return (vol, seg)\n",
    "    \n",
    "def label_data(vol, seg):\n",
    "    length = vol.shape[0]\n",
    "    x = vol.shape[1]\n",
    "    y = vol.shape[2]\n",
    "    # reshape for labeling\n",
    "    seg = np.reshape(seg, (length, x*y) )\n",
    "    vol = np.reshape(vol, (length, x*y) )\n",
    "    # label\n",
    "    labeled = color.label2rgb(seg, vol, alpha=0.1, bg_label=-1)\n",
    "    # shape back\n",
    "    labeled = np.reshape(labeled, (length, x, y, 3) )\n",
    "\n",
    "    return labeled\n",
    "\n",
    "def vis_volume(volume, fig_size=6.5):\n",
    "    length = volume.shape[0]\n",
    "    \n",
    "    # set up\n",
    "    fig = plt.figure()\n",
    "    fig.set_size_inches(fig_size, fig_size)\n",
    "    axes = fig.add_subplot()\n",
    "    hfig = display(fig, display_id=True)\n",
    "\n",
    "    # display\n",
    "    for i in range(length):\n",
    "        axes.imshow(volume[i], interpolation='none', filternorm=False, resample=False)\n",
    "        fig.canvas.draw()\n",
    "        hfig.update(fig)\n",
    "        if i != length-1:\n",
    "            plt.cla()\n",
    "    # clean up\n",
    "    IPython.display.clear_output()\n",
    "\n",
    "def view_patch(patch,i=0):\n",
    "    plt.rcParams['image.interpolation'] = 'nearest'\n",
    "    fig, axarr = plt.subplots(3,4)\n",
    "    fig.set_size_inches(16, 10)\n",
    "    axarr[0,0].imshow(patch.image[0][i], cmap='gray')\n",
    "    axarr[0,1].imshow(patch.label[0][i], cmap='prism')\n",
    "    axarr[0,2].imshow(label_data(patch.image[0],patch.label[0])[i])\n",
    "    axarr[1,0].imshow(patch.affinity[0][i], cmap='gray')\n",
    "    axarr[1,1].imshow(patch.affinity[1][i], cmap='gray')\n",
    "    axarr[1,2].imshow(patch.affinity[2][i], cmap='gray')\n",
    "    axarr[2,0].imshow(patch.get_lsd_channel(0)[i,:,:,0])\n",
    "    axarr[2,1].imshow(patch.get_lsd_channel(1)[i,:,:,0])\n",
    "    axarr[2,2].imshow(patch.get_lsd_channel(2)[i,:,:,0])\n",
    "    axarr[2,3].imshow(patch.get_lsd_channel(3)[i], cmap='gray')\n",
    "    plt.show()\n",
    "\n",
    "\n",
    "def view_affinity(affinity,i=0):\n",
    "    plt.rcParams['image.interpolation'] = 'nearest'\n",
    "    fig, axarr = plt.subplots(1,3)\n",
    "    fig.set_size_inches(24, 20)\n",
    "    axarr[0].imshow(affinity[0][i], cmap='gray')\n",
    "    axarr[1].imshow(affinity[1][i], cmap='gray')\n",
    "    axarr[2].imshow(affinity[2][i], cmap='gray')\n",
    "    plt.show()\n",
    "\n",
    "def view_segmentation(seg,i=0, fig_size=10):\n",
    "    fig = plt.figure()\n",
    "    fig.set_size_inches(fig_size, fig_size)\n",
    "    colored = color.label2rgb(seg[i], alpha=1, bg_label=0)\n",
    "    plt.imshow(colored)\n",
    "    plt.show()"
   ],
   "outputs": [],
   "metadata": {}
  },
  {
   "cell_type": "code",
   "execution_count": 3,
   "source": [
    "import math\n",
    "\n",
    "def split_int(i, bias='left'):\n",
    "    f = i/2\n",
    "    big = math.ceil(f)\n",
    "    sm = math.floor(f)\n",
    "    if bias == 'left':\n",
    "        return (big, sm)\n",
    "    elif bias == 'right':\n",
    "        return (sm, big)\n"
   ],
   "outputs": [],
   "metadata": {}
  },
  {
   "cell_type": "code",
   "execution_count": 6,
   "source": [
    "from neutorch.dataset.utils import from_h5\n",
    "from neutorch.dataset.proofread import ProofreadDataset\n",
    "\n",
    "path = '../../data'\n",
    "file = 'sample_A'\n",
    "\n",
    "image = from_h5(f'{path}/{file}.hdf', dataset_path='volumes/raw')\n",
    "true = from_h5(f'{path}/{file}.hdf', dataset_path='volumes/labels/neuron_ids')\n",
    "pred = from_h5(f'../../RSUnet_900000_run/seg_{file}_pad.hdf', dataset_path='volumes/labels/neuron_ids')\n",
    "aff = from_h5(f'../../RSUnet_900000_run/aff_{file}_pad.h5', dataset_path='affinity')\n",
    "sp = image.shape\n",
    "cords = np.mgrid[0:sp[0],0:sp[1],0:sp[2]]"
   ],
   "outputs": [],
   "metadata": {}
  },
  {
   "cell_type": "code",
   "execution_count": 27,
   "source": [
    "# pad, could do so we pad wth actual data is possible\n",
    "def pad_2_divisible_by(vol, factor):\n",
    "    vol_shape = vol.shape\n",
    "    pad_width = []\n",
    "    for i in range(len(factor)):\n",
    "        left = vol_shape[i] % factor[i]\n",
    "        if left > 0:\n",
    "            add = factor[i] - left\n",
    "            pad_width.append(split_int(add))\n",
    "        else:\n",
    "            pad_width.append((0, 0))\n",
    "    padded = np.pad(vol, pad_width)\n",
    "    vol_shape = padded.shape\n",
    "    # check\n",
    "    assert vol_shape[-1] % factor[-1] == 0 and vol_shape[-2] % factor[-2] == 0 and vol_shape[-3] % factor[-3] == 0, 'Image dimensions must be divisible by the patch size.'\n",
    "    return padded\n",
    "\n"
   ],
   "outputs": [],
   "metadata": {}
  },
  {
   "cell_type": "code",
   "execution_count": 81,
   "source": [
    "from time import time\n",
    "from einops import rearrange\n",
    "\n",
    "def patchify(vol, patch_size):\n",
    "    ping = time()\n",
    "\n",
    "    # patch\n",
    "    _, pz, py, px = patch_size\n",
    "\n",
    "    vol = pad_2_divisible_by(vol, patch_size)\n",
    "    vol_arr = rearrange(vol, 'c (z pz) (y py) (x px) -> (z y x) c pz py px', pz=pz, py=py, px=px)\n",
    "    print(f'rearrange took {round(time() - ping, 3)}')\n",
    "    ping = time()\n",
    "    return vol_arr, vol.shape\n"
   ],
   "outputs": [],
   "metadata": {}
  },
  {
   "cell_type": "code",
   "execution_count": null,
   "source": [
    "image = np.expand_dims(image, 0)\n",
    "true = np.expand_dims(true, 0)\n",
    "pred = np.expand_dims(pred, 0)"
   ],
   "outputs": [],
   "metadata": {}
  },
  {
   "cell_type": "code",
   "execution_count": 93,
   "source": [
    "import random\n",
    "min_volume = 300\n",
    "classes, counts = np.unique(pred, return_counts=True)\n",
    "sort_indices = np.argsort(counts)\n",
    "sort_indices = np.flip(sort_indices)\n",
    "classes = classes[sort_indices]\n",
    "counts = counts[sort_indices]\n",
    "big_classes = []\n",
    "for i, c in enumerate(counts):\n",
    "    if c > min_volume:\n",
    "        big_classes.append(classes[i])\n",
    "classes = big_classes\n"
   ],
   "outputs": [],
   "metadata": {}
  },
  {
   "cell_type": "code",
   "execution_count": 82,
   "source": [
    "patch_size = (1, 1, 16, 16)\n",
    "cords_arr, padded_shape = patchify(cords, patch_size)\n",
    "image_arr, padded_shape = patchify(image, patch_size)\n",
    "pred_arr, padded_shape = patchify(pred, patch_size)\n",
    "true_arr, padded_shape = patchify(true, patch_size)\n"
   ],
   "outputs": [
    {
     "output_type": "stream",
     "name": "stdout",
     "text": [
      "rearrange took 21.645\n",
      "rearrange took 1.188\n",
      "rearrange took 4.055\n",
      "rearrange took 4.694\n"
     ]
    }
   ],
   "metadata": {}
  },
  {
   "cell_type": "code",
   "execution_count": 94,
   "source": [
    "c = classes[0]\n",
    "print(c)\n",
    "arr_indc = np.any(pred_arr == c, axis=(1,2,3,4))\n",
    "print(arr_indc.shape)\n",
    "print(len(pred_arr[arr_indc]))\n"
   ],
   "outputs": [
    {
     "output_type": "stream",
     "name": "stdout",
     "text": [
      "10\n",
      "(780125,)\n",
      "18670\n"
     ]
    }
   ],
   "metadata": {}
  },
  {
   "cell_type": "code",
   "execution_count": 96,
   "source": [
    "_, dz, dy, dx = [pad//p for p,pad in zip(patch_size,padded_shape)]\n",
    "vol_shaped_indices = rearrange(arr_indc, '(dz dy dx) -> dz dy dx', dz=dz, dy=dy, dx=dx)"
   ],
   "outputs": [],
   "metadata": {}
  },
  {
   "cell_type": "code",
   "execution_count": 100,
   "source": [
    "# convert to numbers to perform expand_labels\n",
    "visible_indices = np.zeros_like(vol_shaped_indices)\n",
    "visible_indices[vol_shaped_indices] = 1"
   ],
   "outputs": [],
   "metadata": {}
  },
  {
   "cell_type": "code",
   "execution_count": 101,
   "source": [
    "from skimage.segmentation import expand_labels\n",
    "# expand labels\n",
    "visible_indices_exp = expand_labels(visible_indices, distance=3)"
   ],
   "outputs": [],
   "metadata": {}
  },
  {
   "cell_type": "code",
   "execution_count": 104,
   "source": [
    "# convert back to bool indexing\n",
    "vol_shaped_indices_exp  = visible_indices_exp == 1\n",
    "\n",
    "# rearrange back to array indices\n",
    "arr_indc_exp = rearrange(vol_shaped_indices_exp, 'dz dy dx -> (dz dy dx)', dz=dz, dy=dy, dx=dx)\n",
    "\n",
    "print(arr_indc_exp.shape)\n",
    "print(len(pred_arr[arr_indc_exp]))"
   ],
   "outputs": [
    {
     "output_type": "stream",
     "name": "stdout",
     "text": [
      "(780125,)\n",
      "56759\n"
     ]
    }
   ],
   "metadata": {}
  },
  {
   "cell_type": "code",
   "execution_count": null,
   "source": [],
   "outputs": [],
   "metadata": {}
  }
 ],
 "metadata": {
  "kernelspec": {
   "name": "python3",
   "display_name": "Python 3.9.5 64-bit"
  },
  "language_info": {
   "codemirror_mode": {
    "name": "ipython",
    "version": 3
   },
   "file_extension": ".py",
   "mimetype": "text/x-python",
   "name": "python",
   "nbconvert_exporter": "python",
   "pygments_lexer": "ipython3",
   "version": "3.9.5"
  },
  "metadata": {
   "interpreter": {
    "hash": "ac2eaa0ea0ebeafcc7822e65e46aa9d4f966f30b695406963e145ea4a91cd4fc"
   }
  },
  "interpreter": {
   "hash": "a8e73444cd85779debfbed2ff850992c15fb63378866812fd7bb614c3cbdab4a"
  }
 },
 "nbformat": 4,
 "nbformat_minor": 4
}