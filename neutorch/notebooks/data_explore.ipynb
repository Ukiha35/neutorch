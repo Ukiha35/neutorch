{
 "cells": [
  {
   "cell_type": "code",
   "execution_count": 1,
   "source": [
    "import numpy as np\n",
    "from skimage.transform import resize\n",
    "from skimage import color\n",
    "import matplotlib.pyplot as plt\n",
    "import IPython\n",
    "from neutorch.dataset.border_mask import create_border_mask\n",
    "\n",
    "%load_ext autoreload\n",
    "%autoreload 2\n",
    "%matplotlib inline\n",
    "\n",
    "def scale_data(vol, seg, size=180):\n",
    "    length = vol.shape[0]\n",
    "    vol = resize(vol, (length, size, size))\n",
    "    seg = resize(seg, (length, size, size), order=0, preserve_range=True, anti_aliasing=False)\n",
    "\n",
    "    return (vol, seg)\n",
    "    \n",
    "def label_data(vol, seg):\n",
    "    length = vol.shape[0]\n",
    "    size = vol.shape[1]\n",
    "    # reshape for labeling\n",
    "    seg = np.reshape(seg, (size, length*size) )\n",
    "    vol = np.reshape(vol, (size, length*size) )\n",
    "    # label\n",
    "    labeled = color.label2rgb(seg, vol, alpha=0.1, bg_label=-1)\n",
    "    # shape back\n",
    "    labeled = np.reshape(labeled, (length, size, size, 3) )\n",
    "\n",
    "    return labeled\n",
    "\n",
    "def vis_volume(volume, fig_size=6.5):\n",
    "    length = volume.shape[0]\n",
    "    \n",
    "    # set up\n",
    "    fig = plt.figure()\n",
    "    fig.set_size_inches(fig_size, fig_size)\n",
    "    axes = fig.add_subplot()\n",
    "    hfig = display(fig, display_id=True)\n",
    "\n",
    "    # display\n",
    "    for i in range(length):\n",
    "        axes.imshow(volume[i], cmap='gray', interpolation='none', filternorm=False, resample=False)\n",
    "        fig.canvas.draw()\n",
    "        hfig.update(fig)\n",
    "        if i != length-1:\n",
    "            plt.cla()\n",
    "    # clean up\n",
    "    IPython.display.clear_output()\n",
    "\n",
    "def view_patch(patch,i=0):\n",
    "    plt.rcParams['image.interpolation'] = 'nearest'\n",
    "    fig, axarr = plt.subplots(3,4)\n",
    "    fig.set_size_inches(16, 10)\n",
    "    axarr[0,0].imshow(patch.image[0][i], cmap='gray')\n",
    "    axarr[0,1].imshow(patch.label[0][i], cmap='prism')\n",
    "    axarr[0,2].imshow(label_data(patch.image[0],patch.label[0])[i])\n",
    "    axarr[1,0].imshow(patch.affinity[0][i])\n",
    "    axarr[1,1].imshow(patch.affinity[1][i])\n",
    "    axarr[1,2].imshow(patch.affinity[2][i])\n",
    "    axarr[2,0].imshow(patch.get_lsd_channel(0)[i,:,:,0])\n",
    "    axarr[2,1].imshow(patch.get_lsd_channel(1)[i,:,:,0])\n",
    "    axarr[2,2].imshow(patch.get_lsd_channel(2)[i,:,:,0])\n",
    "    axarr[2,3].imshow(patch.get_lsd_channel(3)[i], cmap='gray')\n",
    "    plt.show()\n",
    "\n",
    "def view_affinity(affinity, i=0, fig_size=2):\n",
    "    plt.rcParams['image.interpolation'] = 'nearest'\n",
    "    num_aff = affinity.shape[0]\n",
    "    fig, axarr = plt.subplots(1,num_aff)\n",
    "    fig.set_size_inches(fig_size*num_aff, fig_size)\n",
    "    for a in range(num_aff):\n",
    "        axarr[a].imshow(affinity[a][i], cmap='gray')\n",
    "        axarr[a].imshow(affinity[a][i], cmap='gray')\n",
    "        axarr[a].imshow(affinity[a][i], cmap='gray')\n",
    "    plt.show()\n",
    "\n",
    "def view_segmentation(seg,i=0, fig_size=10, border=0):\n",
    "    if border > 0:\n",
    "        masked_label = np.zeros(seg.shape, dtype=np.uint64)\n",
    "        create_border_mask(seg, masked_label, border, 0)\n",
    "        seg = masked_label\n",
    "\n",
    "    fig = plt.figure()\n",
    "    fig.set_size_inches(fig_size, fig_size)\n",
    "    colored = color.label2rgb(seg[i], alpha=1, bg_label=0)\n",
    "    plt.imshow(colored)\n",
    "    plt.show()"
   ],
   "outputs": [],
   "metadata": {}
  },
  {
   "cell_type": "code",
   "execution_count": 19,
   "source": [
    "from neutorch.dataset.utils import from_h5\n",
    "affinityAp = from_h5('../../RSUnetBIG/aff_sample_A+_pad.h5', dataset_path='affinity')\n",
    "affinityAp = affinityAp[:, 37:37+125, 911:911+1250, 911:911+1250]\n"
   ],
   "outputs": [],
   "metadata": {}
  },
  {
   "cell_type": "code",
   "execution_count": 21,
   "source": [
    "import cc3d\n",
    "import numpy as np\n",
    "\n",
    "counts = []\n",
    "for i in range(affinityAp.shape[1]):\n",
    "    aff_sl = affinityAp[:,i,:,:].astype(int)\n",
    "    labels_out = cc3d.connected_components(aff_sl,connectivity=6) \n",
    "    counts.append(len(np.unique(labels_out)))"
   ],
   "outputs": [],
   "metadata": {}
  },
  {
   "cell_type": "code",
   "execution_count": 23,
   "source": [
    "arg_mins = np.argsort(counts)\n",
    "print(arg_mins)"
   ],
   "outputs": [
    {
     "output_type": "stream",
     "name": "stdout",
     "text": [
      "[ 80  79 108 109  33   0  81   1  34  32 110 107  78 106 105 111  59  57\n",
      "  77  67 103  95  58  97  51  71 104  98  60  70 101  69 100  17  96  15\n",
      "  76  31  27  68  63  16  61  62  41  66  42  19  38 102  73  29  56  65\n",
      "  99  64  39  24 112  72  35  30  28  37  20  40  25  23  74  75  55  26\n",
      "  21   2  18  94  82  22  36  14  52  43  13 113  92  93   3  44  83  91\n",
      " 122  12  45   4 116 114  11 123  54 115  89  88  48   5  85  50  84  49\n",
      "  86  46 121  53  90 124   9   8   6  47  87   7  10 117 119 118 120]\n"
     ]
    }
   ],
   "metadata": {}
  },
  {
   "cell_type": "code",
   "execution_count": 28,
   "source": [
    "from neutorch.dataset.utils import from_h5\n",
    "\n",
    "segA = from_h5(f'../../RSUnet2_800000_run/seg_sample_A+_pad.hdf', dataset_path='volumes/labels/neuron_ids')\n",
    "segB = from_h5(f'../../RSUnet2_800000_run/seg_sample_B+_pad.hdf', dataset_path='volumes/labels/neuron_ids')\n",
    "segC = from_h5(f'../../RSUnet2_800000_run/seg_sample_C+_pad.hdf', dataset_path='volumes/labels/neuron_ids')\n"
   ],
   "outputs": [],
   "metadata": {}
  },
  {
   "cell_type": "code",
   "execution_count": 29,
   "source": [
    "imgA = from_h5(f'../../data/sample_A+.hdf', dataset_path='volumes/raw')\n",
    "imgB = from_h5(f'../../data/sample_B+.hdf', dataset_path='volumes/raw')\n",
    "imgC = from_h5(f'../../data/sample_C+.hdf', dataset_path='volumes/raw')"
   ],
   "outputs": [],
   "metadata": {}
  },
  {
   "cell_type": "code",
   "execution_count": 7,
   "source": [
    "print(segA.shape)\n",
    "print(segB.shape)\n",
    "print(segC.shape)"
   ],
   "outputs": [
    {
     "output_type": "stream",
     "name": "stdout",
     "text": [
      "(200, 3072, 3072)\n",
      "(200, 3072, 3072)\n",
      "(200, 3072, 3072)\n"
     ]
    }
   ],
   "metadata": {}
  },
  {
   "cell_type": "code",
   "execution_count": 26,
   "source": [
    "import math\n",
    "def grid_vol(vol, sz=100):\n",
    "    num_sl = vol.shape[0]\n",
    "    r = math.ceil(math.sqrt(num_sl))\n",
    "    fig, axarr = plt.subplots(r,r)\n",
    "    fig.set_size_inches(sz, sz)\n",
    "    for i in range(r):\n",
    "        for j in range(r):\n",
    "            cur = (i*r)+j\n",
    "            if cur < num_sl:\n",
    "                axarr[i,j].imshow(vol[cur], cmap='gray')\n",
    "                axarr[i,j].set_title(cur)\n",
    "    plt.axis('off')            \n",
    "    plt.show()"
   ],
   "outputs": [],
   "metadata": {}
  },
  {
   "cell_type": "code",
   "execution_count": 30,
   "source": [
    "segA = color.label2rgb(segA, alpha=1, bg_label=0)"
   ],
   "outputs": [],
   "metadata": {}
  },
  {
   "cell_type": "code",
   "execution_count": 32,
   "source": [
    "segB = color.label2rgb(segB, alpha=1, bg_label=0)"
   ],
   "outputs": [],
   "metadata": {}
  },
  {
   "cell_type": "code",
   "execution_count": 34,
   "source": [
    "segC = color.label2rgb(segC, alpha=1, bg_label=0)"
   ],
   "outputs": [],
   "metadata": {}
  },
  {
   "cell_type": "code",
   "execution_count": 21,
   "source": [
    "imgA = from_h5(f'../../data/sample_A+_pad.hdf', dataset_path='volumes/raw')"
   ],
   "outputs": [],
   "metadata": {}
  },
  {
   "cell_type": "code",
   "execution_count": null,
   "source": [],
   "outputs": [],
   "metadata": {}
  }
 ],
 "metadata": {
  "kernelspec": {
   "name": "python3",
   "display_name": "Python 3.9.5 64-bit"
  },
  "language_info": {
   "name": "python",
   "version": "3.9.5",
   "mimetype": "text/x-python",
   "codemirror_mode": {
    "name": "ipython",
    "version": 3
   },
   "pygments_lexer": "ipython3",
   "nbconvert_exporter": "python",
   "file_extension": ".py"
  },
  "metadata": {
   "interpreter": {
    "hash": "ac2eaa0ea0ebeafcc7822e65e46aa9d4f966f30b695406963e145ea4a91cd4fc"
   }
  },
  "orig_nbformat": 2,
  "interpreter": {
   "hash": "aee8b7b246df8f9039afb4144a1f6fd8d2ca17a180786b69acc140d282b71a49"
  }
 },
 "nbformat": 4,
 "nbformat_minor": 2
}